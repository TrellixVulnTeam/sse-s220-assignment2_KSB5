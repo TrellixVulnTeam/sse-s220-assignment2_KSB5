{
 "cells": [
  {
   "cell_type": "markdown",
   "metadata": {},
   "source": [
    "\n"
   ]
  },
  {
   "cell_type": "markdown",
   "metadata": {},
   "source": [
    "# Load libraries"
   ]
  },
  {
   "cell_type": "code",
   "execution_count": 1,
   "metadata": {},
   "outputs": [],
   "source": [
    "import numpy as np\n",
    "import pandas as pd\n",
    "import os\n",
    "import re\n",
    "from datetime import datetime\n",
    "\n",
    "# Specify git executable file for GitPython in Jupyter Notebook (In IDE, it can still work without this line.)\n",
    "os.environ[\"GIT_PYTHON_GIT_EXECUTABLE\"] = \"/usr/bin/git\"\n",
    "os.environ[\"GIT_PYTHON_TRACE\"] = \"0\"\n",
    "\n",
    "# import logging\n",
    "# logging.basicConfig(level=logging.INFO)\n",
    "\n",
    "import git\n",
    "from git import RemoteProgress\n",
    "\n",
    "from git import Repo\n",
    "import matplotlib.pyplot as plt\n",
    "import seaborn as sns\n",
    "%matplotlib inline"
   ]
  },
  {
   "cell_type": "markdown",
   "metadata": {},
   "source": [
    "# Clone repo from GitHub"
   ]
  },
  {
   "cell_type": "markdown",
   "metadata": {},
   "source": [
    "Link: https://git-scm.com/docs/git-clone <br>\n",
    "<b>Note:</b> In case too-long file path issue occurs in Windows, set <code>git config --system core.longpaths true</code>"
   ]
  },
  {
   "cell_type": "code",
   "execution_count": 2,
   "metadata": {},
   "outputs": [],
   "source": [
    "class Progress(RemoteProgress):\n",
    "    def update(self, op_code, cur_count, max_count=None, message=''):\n",
    "        print(self._cur_line)"
   ]
  },
  {
   "cell_type": "code",
   "execution_count": null,
   "metadata": {},
   "outputs": [
    {
     "name": "stdout",
     "output_type": "stream",
     "text": [
      "remote: Counting objects:   0% (1/226)\n",
      "remote: Counting objects:   1% (3/226)\n",
      "remote: Counting objects:   2% (5/226)\n",
      "remote: Counting objects:   3% (7/226)\n",
      "remote: Counting objects:   4% (10/226)\n",
      "remote: Counting objects:   5% (12/226)\n",
      "remote: Counting objects:   6% (14/226)\n",
      "remote: Counting objects:   7% (16/226)\n",
      "remote: Counting objects:   8% (19/226)\n",
      "remote: Counting objects:   9% (21/226)\n",
      "remote: Counting objects:  10% (23/226)\n",
      "remote: Counting objects:  11% (25/226)\n",
      "remote: Counting objects:  12% (28/226)\n",
      "remote: Counting objects:  13% (30/226)\n",
      "remote: Counting objects:  14% (32/226)\n",
      "remote: Counting objects:  15% (34/226)\n",
      "remote: Counting objects:  16% (37/226)\n",
      "remote: Counting objects:  17% (39/226)\n",
      "remote: Counting objects:  18% (41/226)\n",
      "remote: Counting objects:  19% (43/226)\n",
      "remote: Counting objects:  20% (46/226)\n",
      "remote: Counting objects:  21% (48/226)\n",
      "remote: Counting objects:  22% (50/226)\n",
      "remote: Counting objects:  23% (52/226)\n",
      "remote: Counting objects:  24% (55/226)\n",
      "remote: Counting objects:  25% (57/226)\n",
      "remote: Counting objects:  26% (59/226)\n",
      "remote: Counting objects:  27% (62/226)\n",
      "remote: Counting objects:  28% (64/226)\n",
      "remote: Counting objects:  29% (66/226)\n",
      "remote: Counting objects:  30% (68/226)\n",
      "remote: Counting objects:  31% (71/226)\n",
      "remote: Counting objects:  32% (73/226)\n",
      "remote: Counting objects:  33% (75/226)\n",
      "remote: Counting objects:  34% (77/226)\n",
      "remote: Counting objects:  35% (80/226)\n",
      "remote: Counting objects:  36% (82/226)\n",
      "remote: Counting objects:  37% (84/226)\n",
      "remote: Counting objects:  38% (86/226)\n",
      "remote: Counting objects:  39% (89/226)\n",
      "remote: Counting objects:  40% (91/226)\n",
      "remote: Counting objects:  41% (93/226)\n",
      "remote: Counting objects:  42% (95/226)\n",
      "remote: Counting objects:  43% (98/226)\n",
      "remote: Counting objects:  44% (100/226)\n",
      "remote: Counting objects:  45% (102/226)\n",
      "remote: Counting objects:  46% (104/226)\n",
      "remote: Counting objects:  47% (107/226)\n",
      "remote: Counting objects:  48% (109/226)\n",
      "remote: Counting objects:  49% (111/226)\n",
      "remote: Counting objects:  50% (113/226)\n",
      "remote: Counting objects:  51% (116/226)\n",
      "remote: Counting objects:  52% (118/226)\n",
      "remote: Counting objects:  53% (120/226)\n",
      "remote: Counting objects:  54% (123/226)\n",
      "remote: Counting objects:  55% (125/226)\n",
      "remote: Counting objects:  56% (127/226)\n",
      "remote: Counting objects:  57% (129/226)\n",
      "remote: Counting objects:  58% (132/226)\n",
      "remote: Counting objects:  59% (134/226)\n",
      "remote: Counting objects:  60% (136/226)\n",
      "remote: Counting objects:  61% (138/226)\n",
      "remote: Counting objects:  62% (141/226)\n",
      "remote: Counting objects:  63% (143/226)\n",
      "remote: Counting objects:  64% (145/226)\n",
      "remote: Counting objects:  65% (147/226)\n",
      "remote: Counting objects:  66% (150/226)\n",
      "remote: Counting objects:  67% (152/226)\n",
      "remote: Counting objects:  68% (154/226)\n",
      "remote: Counting objects:  69% (156/226)\n",
      "remote: Counting objects:  70% (159/226)\n",
      "remote: Counting objects:  71% (161/226)\n",
      "remote: Counting objects:  72% (163/226)\n",
      "remote: Counting objects:  73% (165/226)\n",
      "remote: Counting objects:  74% (168/226)\n",
      "remote: Counting objects:  75% (170/226)\n",
      "remote: Counting objects:  76% (172/226)\n",
      "remote: Counting objects:  77% (175/226)\n",
      "remote: Counting objects:  78% (177/226)\n",
      "remote: Counting objects:  79% (179/226)\n",
      "remote: Counting objects:  80% (181/226)\n",
      "remote: Counting objects:  81% (184/226)\n",
      "remote: Counting objects:  82% (186/226)\n",
      "remote: Counting objects:  83% (188/226)\n",
      "remote: Counting objects:  84% (190/226)\n",
      "remote: Counting objects:  85% (193/226)\n",
      "remote: Counting objects:  86% (195/226)\n",
      "remote: Counting objects:  87% (197/226)\n",
      "remote: Counting objects:  88% (199/226)\n",
      "remote: Counting objects:  89% (202/226)\n",
      "remote: Counting objects:  90% (204/226)\n",
      "remote: Counting objects:  91% (206/226)\n",
      "remote: Counting objects:  92% (208/226)\n",
      "remote: Counting objects:  93% (211/226)\n",
      "remote: Counting objects:  94% (213/226)\n",
      "remote: Counting objects:  95% (215/226)\n",
      "remote: Counting objects:  96% (217/226)\n",
      "remote: Counting objects:  97% (220/226)\n",
      "remote: Counting objects:  98% (222/226)\n",
      "remote: Counting objects:  99% (224/226)\n",
      "remote: Counting objects: 100% (226/226)\n",
      "remote: Counting objects: 100% (226/226), done.\n",
      "remote: Compressing objects:   0% (1/172)\n",
      "remote: Compressing objects:   1% (2/172)\n",
      "remote: Compressing objects:   2% (4/172)\n",
      "remote: Compressing objects:   3% (6/172)\n",
      "remote: Compressing objects:   4% (7/172)\n",
      "remote: Compressing objects:   5% (9/172)\n",
      "remote: Compressing objects:   6% (11/172)\n",
      "remote: Compressing objects:   7% (13/172)\n",
      "remote: Compressing objects:   8% (14/172)\n",
      "remote: Compressing objects:   9% (16/172)\n",
      "remote: Compressing objects:  10% (18/172)\n",
      "remote: Compressing objects:  11% (19/172)\n",
      "remote: Compressing objects:  12% (21/172)\n",
      "remote: Compressing objects:  13% (23/172)\n",
      "remote: Compressing objects:  14% (25/172)\n",
      "remote: Compressing objects:  15% (26/172)\n",
      "remote: Compressing objects:  16% (28/172)\n",
      "remote: Compressing objects:  17% (30/172)\n",
      "remote: Compressing objects:  18% (31/172)\n",
      "remote: Compressing objects:  19% (33/172)\n",
      "remote: Compressing objects:  20% (35/172)\n",
      "remote: Compressing objects:  21% (37/172)\n",
      "remote: Compressing objects:  22% (38/172)\n",
      "remote: Compressing objects:  23% (40/172)\n",
      "remote: Compressing objects:  24% (42/172)\n",
      "remote: Compressing objects:  25% (43/172)\n",
      "remote: Compressing objects:  26% (45/172)\n",
      "remote: Compressing objects:  27% (47/172)\n",
      "remote: Compressing objects:  28% (49/172)\n",
      "remote: Compressing objects:  29% (50/172)\n",
      "remote: Compressing objects:  30% (52/172)\n",
      "remote: Compressing objects:  31% (54/172)\n",
      "remote: Compressing objects:  32% (56/172)\n",
      "remote: Compressing objects:  33% (57/172)\n",
      "remote: Compressing objects:  34% (59/172)\n",
      "remote: Compressing objects:  35% (61/172)\n",
      "remote: Compressing objects:  36% (62/172)\n",
      "remote: Compressing objects:  37% (64/172)\n",
      "remote: Compressing objects:  38% (66/172)\n",
      "remote: Compressing objects:  39% (68/172)\n",
      "remote: Compressing objects:  40% (69/172)\n",
      "remote: Compressing objects:  41% (71/172)\n",
      "remote: Compressing objects:  42% (73/172)\n",
      "remote: Compressing objects:  43% (74/172)\n",
      "remote: Compressing objects:  44% (76/172)\n",
      "remote: Compressing objects:  45% (78/172)\n",
      "remote: Compressing objects:  46% (80/172)\n",
      "remote: Compressing objects:  47% (81/172)\n",
      "remote: Compressing objects:  48% (83/172)\n",
      "remote: Compressing objects:  49% (85/172)\n",
      "remote: Compressing objects:  50% (86/172)\n",
      "remote: Compressing objects:  51% (88/172)\n",
      "remote: Compressing objects:  52% (90/172)\n",
      "remote: Compressing objects:  53% (92/172)\n",
      "remote: Compressing objects:  54% (93/172)\n",
      "remote: Compressing objects:  55% (95/172)\n",
      "remote: Compressing objects:  56% (97/172)\n",
      "remote: Compressing objects:  57% (99/172)\n",
      "remote: Compressing objects:  58% (100/172)\n",
      "remote: Compressing objects:  59% (102/172)\n",
      "remote: Compressing objects:  60% (104/172)\n",
      "remote: Compressing objects:  61% (105/172)\n",
      "remote: Compressing objects:  62% (107/172)\n",
      "remote: Compressing objects:  63% (109/172)\n",
      "remote: Compressing objects:  64% (111/172)\n",
      "remote: Compressing objects:  65% (112/172)\n",
      "remote: Compressing objects:  66% (114/172)\n",
      "remote: Compressing objects:  67% (116/172)\n",
      "remote: Compressing objects:  68% (117/172)\n",
      "remote: Compressing objects:  69% (119/172)\n",
      "remote: Compressing objects:  70% (121/172)\n",
      "remote: Compressing objects:  71% (123/172)\n",
      "remote: Compressing objects:  72% (124/172)\n",
      "remote: Compressing objects:  73% (126/172)\n",
      "remote: Compressing objects:  74% (128/172)\n",
      "remote: Compressing objects:  75% (129/172)\n",
      "remote: Compressing objects:  76% (131/172)\n",
      "remote: Compressing objects:  77% (133/172)\n",
      "remote: Compressing objects:  78% (135/172)\n",
      "remote: Compressing objects:  79% (136/172)\n",
      "remote: Compressing objects:  80% (138/172)\n",
      "remote: Compressing objects:  81% (140/172)\n",
      "remote: Compressing objects:  82% (142/172)\n",
      "remote: Compressing objects:  83% (143/172)\n",
      "remote: Compressing objects:  84% (145/172)\n",
      "remote: Compressing objects:  85% (147/172)\n",
      "remote: Compressing objects:  86% (148/172)\n",
      "remote: Compressing objects:  87% (150/172)\n",
      "remote: Compressing objects:  88% (152/172)\n",
      "remote: Compressing objects:  89% (154/172)\n",
      "remote: Compressing objects:  90% (155/172)\n",
      "remote: Compressing objects:  91% (157/172)\n",
      "remote: Compressing objects:  92% (159/172)\n",
      "remote: Compressing objects:  93% (160/172)\n",
      "remote: Compressing objects:  94% (162/172)\n",
      "remote: Compressing objects:  95% (164/172)\n",
      "remote: Compressing objects:  96% (166/172)\n",
      "remote: Compressing objects:  97% (167/172)\n",
      "remote: Compressing objects:  98% (169/172)\n",
      "remote: Compressing objects:  99% (171/172)\n",
      "remote: Compressing objects: 100% (172/172)\n",
      "remote: Compressing objects: 100% (172/172), done.\n"
     ]
    },
    {
     "name": "stdout",
     "output_type": "stream",
     "text": [
      "Receiving objects:   0% (1/396995)\n",
      "Receiving objects:   0% (1046/396995), 44.01 KiB | 57.00 KiB/s\n",
      "Receiving objects:   1% (3970/396995), 620.01 KiB | 368.00 KiB/s\n",
      "Receiving objects:   1% (4420/396995), 620.01 KiB | 368.00 KiB/s\n",
      "Receiving objects:   1% (6866/396995), 1.26 MiB | 480.00 KiB/s\n",
      "Receiving objects:   2% (7940/396995), 1.54 MiB | 494.00 KiB/s\n",
      "Receiving objects:   2% (8757/396995), 1.82 MiB | 494.00 KiB/s\n",
      "Receiving objects:   2% (11261/396995), 2.51 MiB | 537.00 KiB/s\n",
      "Receiving objects:   3% (11910/396995), 2.73 MiB | 590.00 KiB/s\n",
      "Receiving objects:   3% (13353/396995), 3.01 MiB | 591.00 KiB/s\n",
      "Receiving objects:   4% (15880/396995), 3.67 MiB | 594.00 KiB/s\n",
      "Receiving objects:   4% (16157/396995), 3.67 MiB | 594.00 KiB/s\n",
      "Receiving objects:   4% (18058/396995), 4.29 MiB | 607.00 KiB/s\n",
      "Receiving objects:   4% (19160/396995), 4.64 MiB | 537.00 KiB/s\n",
      "Receiving objects:   5% (19850/396995), 4.64 MiB | 537.00 KiB/s\n",
      "Receiving objects:   5% (20884/396995), 4.91 MiB | 513.00 KiB/s\n",
      "Receiving objects:   5% (22486/396995), 5.32 MiB | 480.00 KiB/s\n",
      "Receiving objects:   6% (23820/396995), 5.81 MiB | 442.00 KiB/s\n",
      "Receiving objects:   6% (24576/396995), 5.81 MiB | 442.00 KiB/s\n",
      "Receiving objects:   6% (26289/396995), 6.38 MiB | 426.00 KiB/s\n",
      "Receiving objects:   6% (27739/396995), 6.79 MiB | 448.00 KiB/s\n",
      "Receiving objects:   7% (27790/396995), 6.79 MiB | 448.00 KiB/s\n",
      "Receiving objects:   7% (29697/396995), 7.32 MiB | 467.00 KiB/s\n",
      "Receiving objects:   7% (31289/396995), 7.54 MiB | 469.00 KiB/s\n",
      "Receiving objects:   8% (31760/396995), 7.75 MiB | 472.00 KiB/s\n",
      "Receiving objects:   8% (32836/396995), 7.94 MiB | 452.00 KiB/s\n",
      "Receiving objects:   8% (34915/396995), 8.47 MiB | 449.00 KiB/s\n",
      "Receiving objects:   9% (35730/396995), 8.79 MiB | 481.00 KiB/s\n",
      "Receiving objects:   9% (37832/396995), 9.19 MiB | 524.00 KiB/s\n",
      "Receiving objects:   9% (39042/396995), 9.69 MiB | 521.00 KiB/s\n",
      "Receiving objects:  10% (39700/396995), 9.85 MiB | 510.00 KiB/s\n",
      "Receiving objects:  10% (41446/396995), 10.07 MiB | 508.00 KiB/s\n",
      "Receiving objects:  11% (43670/396995), 10.32 MiB | 513.00 KiB/s\n",
      "Receiving objects:  11% (44442/396995), 10.54 MiB | 503.00 KiB/s\n",
      "Receiving objects:  11% (46919/396995), 10.97 MiB | 467.00 KiB/s\n",
      "Receiving objects:  12% (47640/396995), 10.97 MiB | 467.00 KiB/s\n",
      "Receiving objects:  12% (49819/396995), 11.47 MiB | 414.00 KiB/s\n",
      "Receiving objects:  12% (51556/396995), 11.88 MiB | 422.00 KiB/s\n",
      "Receiving objects:  13% (51610/396995), 11.88 MiB | 422.00 KiB/s\n",
      "Receiving objects:  13% (52279/396995), 12.00 MiB | 402.00 KiB/s\n",
      "Receiving objects:  13% (53121/396995), 12.25 MiB | 354.00 KiB/s\n",
      "Receiving objects:  13% (53746/396995), 12.44 MiB | 292.00 KiB/s\n",
      "Receiving objects:  13% (54437/396995), 12.57 MiB | 267.00 KiB/s\n",
      "Receiving objects:  13% (55153/396995), 12.79 MiB | 194.00 KiB/s\n",
      "Receiving objects:  14% (55580/396995), 12.88 MiB | 188.00 KiB/s\n",
      "Receiving objects:  14% (55779/396995), 12.88 MiB | 188.00 KiB/s\n",
      "Receiving objects:  14% (57541/396995), 13.16 MiB | 198.00 KiB/s\n",
      "Receiving objects:  14% (59366/396995), 13.82 MiB | 282.00 KiB/s\n",
      "Receiving objects:  15% (59550/396995), 13.82 MiB | 282.00 KiB/s\n",
      "Receiving objects:  15% (60346/396995), 14.13 MiB | 295.00 KiB/s\n",
      "Receiving objects:  15% (61424/396995), 14.35 MiB | 313.00 KiB/s\n",
      "Receiving objects:  15% (62032/396995), 14.50 MiB | 309.00 KiB/s\n",
      "Receiving objects:  15% (62507/396995), 14.66 MiB | 293.00 KiB/s\n",
      "Receiving objects:  15% (62984/396995), 14.82 MiB | 221.00 KiB/s\n",
      "Receiving objects:  15% (63455/396995), 14.91 MiB | 187.00 KiB/s\n",
      "Receiving objects:  16% (63520/396995), 14.91 MiB | 187.00 KiB/s\n",
      "Receiving objects:  16% (64311/396995), 15.10 MiB | 173.00 KiB/s\n",
      "Receiving objects:  16% (65097/396995), 15.38 MiB | 164.00 KiB/s\n",
      "Receiving objects:  16% (65274/396995), 15.50 MiB | 171.00 KiB/s\n",
      "Receiving objects:  16% (65386/396995), 15.66 MiB | 182.00 KiB/s\n",
      "Receiving objects:  16% (65462/396995), 15.72 MiB | 168.00 KiB/s\n",
      "Receiving objects:  16% (65551/396995), 15.85 MiB | 156.00 KiB/s\n",
      "Receiving objects:  16% (65654/396995), 15.91 MiB | 138.00 KiB/s\n",
      "Receiving objects:  16% (65734/396995), 16.04 MiB | 111.00 KiB/s\n",
      "Receiving objects:  16% (65927/396995), 16.13 MiB | 107.00 KiB/s\n",
      "Receiving objects:  16% (66273/396995), 16.63 MiB | 168.00 KiB/s\n",
      "Receiving objects:  16% (66748/396995), 17.19 MiB | 273.00 KiB/s\n",
      "Receiving objects:  16% (67067/396995), 17.62 MiB | 352.00 KiB/s\n",
      "Receiving objects:  17% (67490/396995), 17.93 MiB | 415.00 KiB/s\n",
      "Receiving objects:  17% (67571/396995), 18.18 MiB | 462.00 KiB/s\n",
      "Receiving objects:  17% (68400/396995), 18.96 MiB | 558.00 KiB/s\n",
      "Receiving objects:  17% (68830/396995), 19.28 MiB | 567.00 KiB/s\n",
      "Receiving objects:  17% (69454/396995), 19.84 MiB | 562.00 KiB/s\n",
      "Receiving objects:  17% (69982/396995), 20.53 MiB | 620.00 KiB/s\n",
      "Receiving objects:  17% (70271/396995), 20.81 MiB | 532.00 KiB/s\n",
      "Receiving objects:  17% (70433/396995), 21.00 MiB | 402.00 KiB/s\n",
      "Receiving objects:  17% (70778/396995), 21.21 MiB | 377.00 KiB/s\n",
      "Receiving objects:  17% (70945/396995), 21.46 MiB | 304.00 KiB/s\n",
      "Receiving objects:  17% (71158/396995), 21.56 MiB | 244.00 KiB/s\n",
      "Receiving objects:  17% (71293/396995), 21.75 MiB | 188.00 KiB/s\n",
      "Receiving objects:  18% (71460/396995), 21.75 MiB | 188.00 KiB/s\n",
      "Receiving objects:  18% (71603/396995), 21.87 MiB | 188.00 KiB/s\n",
      "Receiving objects:  18% (72096/396995), 22.15 MiB | 207.00 KiB/s\n",
      "Receiving objects:  18% (72177/396995), 22.53 MiB | 213.00 KiB/s\n",
      "Receiving objects:  18% (72243/396995), 22.75 MiB | 223.00 KiB/s\n",
      "Receiving objects:  18% (72345/396995), 22.93 MiB | 248.00 KiB/s\n",
      "Receiving objects:  18% (72400/396995), 23.18 MiB | 254.00 KiB/s\n",
      "Receiving objects:  18% (72631/396995), 23.40 MiB | 237.00 KiB/s\n",
      "Receiving objects:  18% (72668/396995), 23.50 MiB | 209.00 KiB/s\n",
      "Receiving objects:  18% (73079/396995), 23.71 MiB | 193.00 KiB/s\n",
      "Receiving objects:  18% (73182/396995), 23.87 MiB | 205.00 KiB/s\n",
      "Receiving objects:  18% (74005/396995), 24.59 MiB | 291.00 KiB/s\n",
      "Receiving objects:  18% (74335/396995), 24.90 MiB | 310.00 KiB/s\n",
      "Receiving objects:  18% (74557/396995), 25.06 MiB | 318.00 KiB/s\n",
      "Receiving objects:  18% (74751/396995), 25.25 MiB | 308.00 KiB/s\n",
      "Receiving objects:  18% (75060/396995), 25.34 MiB | 302.00 KiB/s\n",
      "Receiving objects:  18% (75322/396995), 25.56 MiB | 241.00 KiB/s\n",
      "Receiving objects:  19% (75430/396995), 25.65 MiB | 188.00 KiB/s\n",
      "Receiving objects:  19% (75509/396995), 25.75 MiB | 175.00 KiB/s\n",
      "Receiving objects:  19% (75774/396995), 25.87 MiB | 171.00 KiB/s\n",
      "Receiving objects:  19% (76005/396995), 26.15 MiB | 181.00 KiB/s\n",
      "Receiving objects:  19% (76202/396995), 26.21 MiB | 178.00 KiB/s\n",
      "Receiving objects:  19% (76466/396995), 26.53 MiB | 189.00 KiB/s\n",
      "Receiving objects:  19% (76669/396995), 26.65 MiB | 194.00 KiB/s\n",
      "Receiving objects:  19% (76983/396995), 26.90 MiB | 195.00 KiB/s\n",
      "Receiving objects:  19% (77151/396995), 27.03 MiB | 170.00 KiB/s\n",
      "Receiving objects:  19% (77229/396995), 27.12 MiB | 172.00 KiB/s\n",
      "Receiving objects:  19% (77436/396995), 27.21 MiB | 169.00 KiB/s\n",
      "Receiving objects:  19% (77816/396995), 27.50 MiB | 176.00 KiB/s\n",
      "Receiving objects:  19% (78096/396995), 27.68 MiB | 169.00 KiB/s\n",
      "Receiving objects:  19% (78444/396995), 27.84 MiB | 173.00 KiB/s\n",
      "Receiving objects:  19% (78627/396995), 28.00 MiB | 176.00 KiB/s\n",
      "Receiving objects:  19% (78869/396995), 28.09 MiB | 171.00 KiB/s\n",
      "Receiving objects:  19% (79002/396995), 28.25 MiB | 147.00 KiB/s\n",
      "Receiving objects:  19% (79086/396995), 28.31 MiB | 133.00 KiB/s\n",
      "Receiving objects:  20% (79399/396995), 28.37 MiB | 129.00 KiB/s\n",
      "Receiving objects:  20% (79534/396995), 28.37 MiB | 129.00 KiB/s\n",
      "Receiving objects:  20% (80142/396995), 28.90 MiB | 177.00 KiB/s\n",
      "Receiving objects:  20% (80436/396995), 29.15 MiB | 196.00 KiB/s\n",
      "Receiving objects:  20% (80731/396995), 29.46 MiB | 239.00 KiB/s\n",
      "Receiving objects:  20% (81006/396995), 29.62 MiB | 257.00 KiB/s\n",
      "Receiving objects:  20% (81333/396995), 29.90 MiB | 297.00 KiB/s\n",
      "Receiving objects:  20% (81661/396995), 30.21 MiB | 248.00 KiB/s\n",
      "Receiving objects:  20% (81976/396995), 30.36 MiB | 252.00 KiB/s\n",
      "Receiving objects:  20% (82650/396995), 30.83 MiB | 271.00 KiB/s\n",
      "Receiving objects:  21% (83369/396995), 31.14 MiB | 315.00 KiB/s\n",
      "Receiving objects:  21% (83371/396995), 31.36 MiB | 332.00 KiB/s\n"
     ]
    },
    {
     "name": "stdout",
     "output_type": "stream",
     "text": [
      "Receiving objects:  21% (83978/396995), 31.80 MiB | 372.00 KiB/s\n",
      "Receiving objects:  21% (84477/396995), 32.08 MiB | 397.00 KiB/s\n",
      "Receiving objects:  21% (84816/396995), 32.36 MiB | 387.00 KiB/s\n",
      "Receiving objects:  21% (85162/396995), 32.46 MiB | 370.00 KiB/s\n",
      "Receiving objects:  21% (85402/396995), 32.64 MiB | 281.00 KiB/s\n",
      "Receiving objects:  21% (85480/396995), 32.77 MiB | 202.00 KiB/s\n",
      "Receiving objects:  21% (85526/396995), 32.89 MiB | 193.00 KiB/s\n",
      "Receiving objects:  21% (86111/396995), 33.36 MiB | 206.00 KiB/s\n",
      "Receiving objects:  21% (87125/396995), 33.86 MiB | 265.00 KiB/s\n",
      "Receiving objects:  22% (87339/396995), 33.86 MiB | 265.00 KiB/s\n",
      "Receiving objects:  22% (87917/396995), 34.18 MiB | 303.00 KiB/s\n",
      "Receiving objects:  22% (88790/396995), 34.55 MiB | 357.00 KiB/s\n",
      "Receiving objects:  22% (89389/396995), 34.71 MiB | 375.00 KiB/s\n",
      "Receiving objects:  22% (89723/396995), 34.93 MiB | 326.00 KiB/s\n",
      "Receiving objects:  22% (90129/396995), 35.02 MiB | 295.00 KiB/s\n",
      "Receiving objects:  22% (90389/396995), 35.21 MiB | 236.00 KiB/s\n",
      "Receiving objects:  23% (91309/396995), 35.43 MiB | 224.00 KiB/s\n"
     ]
    }
   ],
   "source": [
    "remote_link = \"git@github.com:apache/tomcat.git\"\n",
    "local_link = \"repo/tomcat\"\n",
    "# Uncomment to clone\n",
    "Repo.clone_from(remote_link, local_link, progress=Progress())"
   ]
  },
  {
   "cell_type": "code",
   "execution_count": null,
   "metadata": {},
   "outputs": [],
   "source": [
    "repo = Repo(local_link)\n",
    "fixing_commit = \"299b26af66793438c323ea6b18462fa44683080f\"\n",
    "affected_file = \"java/org/apache/catalina/core/StandardWrapper.java\""
   ]
  },
  {
   "cell_type": "markdown",
   "metadata": {},
   "source": [
    "# Show info of a commit\n",
    "Link: https://git-scm.com/docs/git-show\n",
    "You can explore different parameters."
   ]
  },
  {
   "cell_type": "code",
   "execution_count": null,
   "metadata": {},
   "outputs": [],
   "source": [
    "show_data = repo.git.show(\"-s\", fixing_commit).splitlines()\n",
    "for line in show_data:\n",
    "    print(line)"
   ]
  },
  {
   "cell_type": "markdown",
   "metadata": {},
   "source": [
    "# Show all developers across all branches\n",
    "Link: https://git-scm.com/docs/git-shortlog"
   ]
  },
  {
   "cell_type": "code",
   "execution_count": null,
   "metadata": {},
   "outputs": [],
   "source": [
    "commit_authors = repo.git.shortlog(\"-sne\", \"--branches\", affected_file).splitlines()\n",
    "\n",
    "author_commits = []\n",
    "\n",
    "for commit_author in commit_authors:\n",
    "    commit, author = commit_author.split(\"\\t\")\n",
    "    author_commits.append([int(commit), author])"
   ]
  },
  {
   "cell_type": "code",
   "execution_count": null,
   "metadata": {},
   "outputs": [],
   "source": [
    "df = pd.DataFrame(author_commits, columns=['Commit', 'Author'])"
   ]
  },
  {
   "cell_type": "code",
   "execution_count": null,
   "metadata": {},
   "outputs": [],
   "source": [
    "df.head()"
   ]
  },
  {
   "cell_type": "markdown",
   "metadata": {},
   "source": [
    "## Top 10 most active developers in the project"
   ]
  },
  {
   "cell_type": "code",
   "execution_count": null,
   "metadata": {},
   "outputs": [],
   "source": [
    "sns.barplot(y='Author', x=\"Commit\", data=df[:10])"
   ]
  },
  {
   "cell_type": "markdown",
   "metadata": {},
   "source": [
    "# Code changes between 2 commits\n",
    "<b>Note:</b> Watch out for the initial commit (no parent commit)"
   ]
  },
  {
   "cell_type": "code",
   "execution_count": null,
   "metadata": {},
   "outputs": [],
   "source": [
    "diff_data = repo.git.diff(fixing_commit + \"^\", fixing_commit).splitlines()\n",
    "for line in diff_data:\n",
    "    print(line)"
   ]
  },
  {
   "cell_type": "markdown",
   "metadata": {},
   "source": [
    "# Identify the last commit that changes a line modified in the current commit"
   ]
  },
  {
   "cell_type": "markdown",
   "metadata": {},
   "source": [
    "Link: https://git-scm.com/docs/git-blame"
   ]
  },
  {
   "cell_type": "code",
   "execution_count": null,
   "metadata": {
    "scrolled": true
   },
   "outputs": [],
   "source": [
    "blame_data = repo.git.blame(\"-L1139,+1\", fixing_commit + \"^\", \"--\", affected_file).splitlines()\n",
    "for line in blame_data:\n",
    "    print(line)"
   ]
  },
  {
   "cell_type": "code",
   "execution_count": null,
   "metadata": {},
   "outputs": [],
   "source": [
    "blame_data = repo.git.blame(\"-L1139,+1\", \"-wCCC\", fixing_commit + \"^\", \"--\", affected_file).splitlines()\n",
    "for line in blame_data:\n",
    "    print(line)\n",
    "    \n",
    "last_commit = blame_data[0].strip().split()[0]"
   ]
  },
  {
   "cell_type": "markdown",
   "metadata": {},
   "source": [
    "# Identify the latest commit that modified a line in the smallest enclosing scope"
   ]
  },
  {
   "cell_type": "code",
   "execution_count": null,
   "metadata": {
    "scrolled": true
   },
   "outputs": [],
   "source": [
    "# Identify the latest commit that modified selected lines (smallest enclosing scope)\n",
    "# Smallest enclosing scope considered to be line 1135 to 1150 at the time of the fixing commit\n",
    "\n",
    "blame_data = repo.git.blame(\"-L1135,1150\", fixing_commit + \"^\", affected_file).splitlines()\n",
    "\n",
    "newest_time = datetime.min\n",
    "newest_commit = \"\"\n",
    "for line in blame_data:\n",
    "    match = re.search(r'(\\d\\d\\d\\d-\\d\\d-\\d\\d\\s\\d\\d:\\d\\d:\\d\\d)', line)\n",
    "    if datetime.strptime(match.group(1), \"%Y-%m-%d %H:%M:%S\") > newest_time:\n",
    "        newest_time = datetime.strptime(match.group(1), \"%Y-%m-%d %H:%M:%S\")\n",
    "        newest_commit = line.split(\" \")[0]\n",
    "\n",
    "print(\"Show information for latest commit\")\n",
    "show_data = repo.git.show(newest_commit).splitlines()\n",
    "for line in show_data:\n",
    "    print(line)"
   ]
  },
  {
   "cell_type": "markdown",
   "metadata": {},
   "source": [
    "# Identify the most frequently occuring commit in the scope"
   ]
  },
  {
   "cell_type": "code",
   "execution_count": null,
   "metadata": {},
   "outputs": [],
   "source": [
    "commits = []\n",
    "for line in blame_data:\n",
    "    commits.append(line.split(\" \")[0])\n",
    "\n",
    "counter = 0\n",
    "for commit in commits:\n",
    "    if commits.count(commit) > counter:\n",
    "        counter = commits.count(commit)\n",
    "        freq_commit = commit\n",
    "\n",
    "print(\"Most frequent commit: \" + freq_commit)\n",
    "print(\"Occurs: \" + str(counter))\n",
    "\n",
    "print(\"Show summary information for most frequent commit\")\n",
    "show_data = repo.git.show(freq_commit).splitlines()\n",
    "for line in show_data:\n",
    "    print(line)"
   ]
  },
  {
   "cell_type": "markdown",
   "metadata": {},
   "source": [
    "# Retest most frequent commit using \"-w, -wM, -wC, -wCC, -wCCC\""
   ]
  },
  {
   "cell_type": "code",
   "execution_count": null,
   "metadata": {},
   "outputs": [],
   "source": [
    "blame_params = [\"-w\", \"-wM\", \"-wC\", \"-wCC\", \"-wCCC\"]\n",
    "\n",
    "commits = []\n",
    "VCC_commits = []\n",
    "for param in blame_params:\n",
    "    blame_data = repo.git.blame(\"-L1135,1150\", param, fixing_commit + \"^\", affected_file).splitlines()\n",
    "\n",
    "    commits = []\n",
    "    for line in blame_data:\n",
    "        commits.append(line.split(\" \")[0])\n",
    "\n",
    "    counter = 0\n",
    "    for commit in commits:\n",
    "        if commits.count(commit) > counter:\n",
    "            counter = commits.count(commit)\n",
    "            freq_commit = commit\n",
    "\n",
    "    VCC_commits.append(freq_commit)\n",
    "    print(\"Most frequent commit using \" + param + \": \" + freq_commit)\n",
    "    print(\"Occurances: \" + str(counter))"
   ]
  },
  {
   "cell_type": "markdown",
   "metadata": {},
   "source": [
    "# Show all the commit history between two commits"
   ]
  },
  {
   "cell_type": "markdown",
   "metadata": {},
   "source": [
    "Link: https://git-scm.com/docs/git-log <br> Watch out for initial commit (no parent commit)"
   ]
  },
  {
   "cell_type": "code",
   "execution_count": null,
   "metadata": {},
   "outputs": [],
   "source": [
    "log_data = repo.git.log(\"--oneline\", last_commit + \"..\" + fixing_commit + \"^\").splitlines()\n",
    "print(\"Number of commits in between:\", len(log_data))"
   ]
  },
  {
   "cell_type": "code",
   "execution_count": null,
   "metadata": {},
   "outputs": [],
   "source": [
    "log_data"
   ]
  },
  {
   "cell_type": "markdown",
   "metadata": {},
   "source": [
    "# Analyse the Vulnerability causing Commit"
   ]
  },
  {
   "cell_type": "code",
   "execution_count": null,
   "metadata": {
    "scrolled": true
   },
   "outputs": [],
   "source": [
    "print(\"The VCC is:\", last_commit)"
   ]
  },
  {
   "cell_type": "code",
   "execution_count": null,
   "metadata": {},
   "outputs": [],
   "source": [
    "vcc_diff_data = repo.git.diff(last_commit + \"^\", last_commit).splitlines()\n",
    "for line in vcc_diff_data:\n",
    "    print(line)"
   ]
  },
  {
   "cell_type": "code",
   "execution_count": null,
   "metadata": {},
   "outputs": [],
   "source": [
    "vcc_show_data = repo.git.show(\"-s\", last_commit).splitlines()\n",
    "for line in vcc_show_data:\n",
    "    print(line)"
   ]
  },
  {
   "cell_type": "markdown",
   "metadata": {},
   "source": [
    "Finding the number of lines inserted and deleted (including whitespace and comments)"
   ]
  },
  {
   "cell_type": "code",
   "execution_count": null,
   "metadata": {},
   "outputs": [],
   "source": [
    "vcc_diff_data = repo.git.diff(\"--stat\", last_commit + \"^\", last_commit).splitlines()\n",
    "for line in vcc_diff_data:\n",
    "    print(line)"
   ]
  },
  {
   "cell_type": "code",
   "execution_count": null,
   "metadata": {},
   "outputs": [],
   "source": [
    "vcc_diff_data = repo.git.diff(\"--dirstat\", last_commit + \"^\", last_commit).splitlines()\n",
    "for line in vcc_diff_data:\n",
    "    print(line)"
   ]
  },
  {
   "cell_type": "markdown",
   "metadata": {},
   "source": [
    "Finding the number of lines inseted and deleted (excluding whitespace and comments)"
   ]
  },
  {
   "cell_type": "code",
   "execution_count": null,
   "metadata": {},
   "outputs": [],
   "source": [
    "vcc_diff_data = repo.git.diff(\"-w\", last_commit + \"^\", last_commit).splitlines()\n",
    "\n",
    "added_comments = 0\n",
    "deleted_comments = 0\n",
    "\n",
    "for line in vcc_diff_data:\n",
    "    match = re.search('(/[*]+)|(\\s[*]/)|(\\s[*]\\s)|(\\s+//)', line)\n",
    "    if (line[0] == \"+\" and match != None):\n",
    "        added_comments = added_comments + 1\n",
    "    if (line[0] == \"-\" and match != None):\n",
    "        deleted_comments = deleted_comments + 1\n",
    "\n",
    "# total added excluding comments\n",
    "print(\"Total Added Excluding Comments: \")\n",
    "print((int(repo.git.diff(\"--stat\", last_commit + \"^\", last_commit).splitlines()[-1].split(\" \")[-4]) - added_comments))\n",
    "\n",
    "# total deleted excluding comments\n",
    "print(\"Total Deleted Excluding Comments: \")\n",
    "print((int(repo.git.diff(\"--stat\", last_commit + \"^\", last_commit).splitlines()[-1].split(\" \")[-2]) - deleted_comments))"
   ]
  },
  {
   "cell_type": "markdown",
   "metadata": {},
   "source": [
    "Find the number of days between the VCC and the previous commit of the affected file"
   ]
  },
  {
   "cell_type": "code",
   "execution_count": null,
   "metadata": {},
   "outputs": [],
   "source": [
    "log_data = repo.git.log(\"--oneline\", last_commit, affected_file).splitlines()\n",
    "print(log_data[2])\n",
    "\n",
    "# VCC\n",
    "vcc_show_data = repo.git.show(\"-s\", \"--format=%at\", last_commit)\n",
    "vcc_time = datetime.fromtimestamp(int(vcc_show_data))\n",
    "    \n",
    "# Commit prior to VCC\n",
    "vcc_show_data = repo.git.show(\"-s\", \"--format=%at\", log_data[2].split(\" \")[0])\n",
    "prior_time = datetime.fromtimestamp(int(vcc_show_data))\n",
    "\n",
    "print(\"Number of days between the VCC and the previous commit of the affected file: \")\n",
    "print(abs((vcc_time - prior_time).days))"
   ]
  },
  {
   "cell_type": "markdown",
   "metadata": {},
   "source": [
    "Find the number of times the file in the VCC has been modified since it's creation"
   ]
  },
  {
   "cell_type": "code",
   "execution_count": null,
   "metadata": {},
   "outputs": [],
   "source": [
    "log_data = repo.git.log(\"--oneline\", \"--follow\", last_commit + \"^\", affected_file).splitlines()\n",
    "print(\"Number of modifications of\", affected_file, \"is\", len(log_data))"
   ]
  },
  {
   "cell_type": "code",
   "execution_count": null,
   "metadata": {},
   "outputs": [],
   "source": [
    "commit_authors = repo.git.shortlog(\"-sne\", \"--branches\", affected_file).splitlines()\n",
    "\n",
    "for line in commit_authors:\n",
    "    print(line)https://tomcat.apache.org/security-7.html"
   ]
  },
  {
   "cell_type": "markdown",
   "metadata": {},
   "source": [
    "How many commits have each of the identified developers had?"
   ]
  },
  {
   "cell_type": "code",
   "execution_count": null,
   "metadata": {},
   "outputs": [],
   "source": [
    "for commit_author in commit_authors:\n",
    "    commit, author = commit_author.split(\"\\t\")\n",
    "    log_data = repo.git.log(\"--oneline\", '--author=' + author.strip()).splitlines()\n",
    "    print(\"Number of commits for \" + author + \": \", len(log_data))"
   ]
  },
  {
   "cell_type": "markdown",
   "metadata": {},
   "source": [
    "Days between the fixing commit and the VCC"
   ]
  },
  {
   "cell_type": "code",
   "execution_count": null,
   "metadata": {},
   "outputs": [],
   "source": [
    "fix_time = repo.git.show(\"-s\", \"--pretty=%at\", fixing_commit)\n",
    "fix_date = datetime.fromtimestamp(int(fix_time))\n",
    "\n",
    "print(\"Number of days between the VCC and the fixing commit: \")\n",
    "print(abs((vcc_time - fix_date).days))"
   ]
  },
  {
   "cell_type": "code",
   "execution_count": null,
   "metadata": {},
   "outputs": [],
   "source": [
    "last_commit = blame_data[0].strip().split()[0]\n",
    "log_data = repo.git.log(\"--grep=CVE\", last_commit + \"..\" + fixing_commit).splitlines()\n",
    "\n",
    "for line in log_data:\n",
    "    print(line)"
   ]
  },
  {
   "cell_type": "code",
   "execution_count": null,
   "metadata": {},
   "outputs": [],
   "source": []
  }
 ],
 "metadata": {
  "kernelspec": {
   "display_name": "Python 3",
   "language": "python",
   "name": "python3"
  },
  "language_info": {
   "codemirror_mode": {
    "name": "ipython",
    "version": 3
   },
   "file_extension": ".py",
   "mimetype": "text/x-python",
   "name": "python",
   "nbconvert_exporter": "python",
   "pygments_lexer": "ipython3",
   "version": "3.8.2"
  }
 },
 "nbformat": 4,
 "nbformat_minor": 2
}
